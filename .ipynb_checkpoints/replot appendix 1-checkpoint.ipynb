{
 "cells": [
  {
   "cell_type": "code",
   "execution_count": 3,
   "metadata": {
    "collapsed": false
   },
   "outputs": [],
   "source": [
    "import matplotlib\n",
    "import matplotlib.pyplot as plt\n",
    "import os\n",
    "from os import walk\n",
    "import cPickle as pickle\n",
    "import numpy as np\n",
    "\n",
    "%matplotlib inline"
   ]
  },
  {
   "cell_type": "code",
   "execution_count": 5,
   "metadata": {
    "collapsed": false
   },
   "outputs": [],
   "source": [
    "mypath = \"C:\\\\Users\\\\abre049.UOA\\\\Documents\\\\data\\\\appendix 1 arrays\"\n",
    "blank = matplotlib.patches.Rectangle((0,0), 1, 1, fill=False, edgecolor='none',\n",
    "                                     visible=False)\n",
    "for (dirpath, dirnames, filenames) in walk(mypath):\n",
    "    for file_name in ['blk161_1_amplitude.p']:#filenames:\n",
    "        mydata = pickle.load(open(dirpath+'\\\\'+file_name, 'rb'))\n",
    "        r_value_2dp = '=' + str(np.around(mydata['r_value'], decimals=2))\n",
    "        if mydata['p_vaule'] < 0.0001:\n",
    "            p_value_4dp = '<0.0001'\n",
    "        else:\n",
    "            p_value_4dp = '=' + str(np.around(mydata['p_vaule'], decimals=4))\n",
    "        plt.scatter(mydata['e_y'], mydata['feat_y'])\n",
    "        X_plot = np.linspace(min(mydata['e_y']), max(mydata['e_y']), 10)\n",
    "        plt.plot(X_plot, X_plot*mydata['slope'] + mydata['intercept'], linewidth=5, color='r')\n",
    "        x1,x2,y1,y2 = plt.axis()\n",
    "        plt.axis((x1,x2+(x2-x1),y1,y2))\n",
    "#         plt.xlabel('HVC Activity (V X 10^-8, smoothed)') # Took out labels to conserve space. Will explain axis in figure key\n",
    "#         plt.ylabel('Mean '+ feature_name['caps'][feature])\n",
    "        plt.legend([blank], ['R'+r_value_2dp+'\\np'+p_value_4dp], prop={'size':28}, frameon=False, loc=7)\n",
    "        save_file_name = \"C:\\\\Users\\\\abre049.UOA\\\\Google Drive\\\\Work\\\\Medicine\\\\TI\\\\Elective\\\\Images\\\\appendix 1\\\\\"+file_name[:-2]+'.png'\n",
    "        plt.savefig(save_file_name, bbox_inches='tight')\n",
    "#         plt.show()\n",
    "        plt.close()"
   ]
  }
 ],
 "metadata": {
  "kernelspec": {
   "display_name": "Python 2",
   "language": "python",
   "name": "python2"
  },
  "language_info": {
   "codemirror_mode": {
    "name": "ipython",
    "version": 2
   },
   "file_extension": ".py",
   "mimetype": "text/x-python",
   "name": "python",
   "nbconvert_exporter": "python",
   "pygments_lexer": "ipython2",
   "version": "2.7.9"
  }
 },
 "nbformat": 4,
 "nbformat_minor": 0
}
