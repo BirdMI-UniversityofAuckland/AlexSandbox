{
 "cells": [
  {
   "cell_type": "code",
   "execution_count": 2,
   "metadata": {
    "collapsed": false
   },
   "outputs": [
    {
     "name": "stdout",
     "output_type": "stream",
     "text": [
      "Populating the interactive namespace from numpy and matplotlib\n"
     ]
    }
   ],
   "source": [
    "%pylab inline\n",
    "plt.ion()"
   ]
  },
  {
   "cell_type": "code",
   "execution_count": 3,
   "metadata": {
    "collapsed": false
   },
   "outputs": [
    {
     "data": {
      "text/plain": [
       "\"\\nCovariance Analyser\\n\\nTakes and anaesthetised Zibra Finch's HVC neuronal potential spike-time data \\nand it's coresponding birds own song audio and returns a data-structure\\ncontaining covarient elements.\\n\\nThis program will hopfully be transferable to and awake birds HVC spike times\\nand the corresponding sound output, thereby can be used to inform a BMI\\nwhich neural activity related to which changes in song output\\n\\nFunctions: ...\\n\\nClasses: ...\\n\\nExceptions: ...\\n\\nCreated on Mon Jun 29 13:57:37 2015\\n\\n@author: Alex Brebner\\n\""
      ]
     },
     "execution_count": 3,
     "metadata": {},
     "output_type": "execute_result"
    }
   ],
   "source": [
    "# -*- coding: utf-8 -*-\n",
    "\"\"\"\n",
    "Covariance Analyser\n",
    "\n",
    "Takes and anaesthetised Zibra Finch's HVC neuronal potential spike-time data \n",
    "and it's coresponding birds own song audio and returns a data-structure\n",
    "containing covarient elements.\n",
    "\n",
    "This program will hopfully be transferable to and awake birds HVC spike times\n",
    "and the corresponding sound output, thereby can be used to inform a BMI\n",
    "which neural activity related to which changes in song output\n",
    "\n",
    "Functions: ...\n",
    "\n",
    "Classes: ...\n",
    "\n",
    "Exceptions: ...\n",
    "\n",
    "Created on Mon Jun 29 13:57:37 2015\n",
    "\n",
    "@author: Alex Brebner\n",
    "\"\"\""
   ]
  },
  {
   "cell_type": "code",
   "execution_count": 4,
   "metadata": {
    "collapsed": true
   },
   "outputs": [],
   "source": [
    "##Imports\n",
    "import numpy as np\n",
    "import matplotlib as mpl\n",
    "import matplotlib.pyplot as plt\n",
    "import scipy.io as sp\n",
    "import scipy.signal as sgnp\n",
    "import os"
   ]
  },
  {
   "cell_type": "code",
   "execution_count": 5,
   "metadata": {
    "collapsed": false
   },
   "outputs": [],
   "source": [
    "#Constants\n",
    "sampling_freq = 44100\n",
    "data_dir = 'C:\\\\Users\\\\abre049.UOA\\\\Documents\\\\data\\\\Crandall 2007' \n",
    "adult_birds = set(['blk161', 'o222', 'r87', 'w293',]) #names of the adult birds used in Crandall 2007\n",
    "r87 = 'C:\\\\Users\\\\abre049.UOA\\\\Documents\\\\data\\\\Crandall 2007\\\\r87\\\\sngr870119wtrig02-Apr135757\\\\sng162004_0119v4'\n",
    "blk161 = 'C:\\\\Users\\\\abre049.UOA\\\\Documents\\\\data\\\\Crandall 2007\\\\blk161\\\\sngblk1610309wtrig23-Mar143025\\\\sng154406_0309v3.mat'"
   ]
  },
  {
   "cell_type": "markdown",
   "metadata": {},
   "source": [
    "#Load the data location\n",
    "\n",
    "I want to have a way of feeding the data into python in such a way that I can easy change the scope of data. ie change from single 2-15sec recording to all the data from all birds. \n",
    "\n",
    "The data is stored like this: \n",
    "Crandall 2007[bird_name_x[...], bird_name_y[day_a[...], day_b[single_song_data_i, single_song_data_j, ...], ...], ...]\n",
    "\n",
    "To do this I will make a function which will iterate through all the folders and files and store each subdirectory as dictionary. This can then be used to generate the urls of all data files"
   ]
  },
  {
   "cell_type": "code",
   "execution_count": 6,
   "metadata": {
    "collapsed": false
   },
   "outputs": [
    {
     "ename": "WindowsError",
     "evalue": "[Error 3] The system cannot find the path specified: 'C:\\\\Users\\\\abre049.UOA\\\\Documents\\\\data\\\\Crandall 2007/*.*'",
     "output_type": "error",
     "traceback": [
      "\u001b[1;31m---------------------------------------------------------------------------\u001b[0m",
      "\u001b[1;31mWindowsError\u001b[0m                              Traceback (most recent call last)",
      "\u001b[1;32m<ipython-input-6-31c1a6875a46>\u001b[0m in \u001b[0;36m<module>\u001b[1;34m()\u001b[0m\n\u001b[0;32m     20\u001b[0m     \u001b[1;32mreturn\u001b[0m \u001b[0mdata_urls\u001b[0m\u001b[1;33m\u001b[0m\u001b[0m\n\u001b[0;32m     21\u001b[0m \u001b[1;33m\u001b[0m\u001b[0m\n\u001b[1;32m---> 22\u001b[1;33m \u001b[0msong_locs\u001b[0m \u001b[1;33m=\u001b[0m \u001b[0mdata_file_urls\u001b[0m\u001b[1;33m(\u001b[0m\u001b[0mdata_dir\u001b[0m\u001b[1;33m)\u001b[0m\u001b[1;33m\u001b[0m\u001b[0m\n\u001b[0m\u001b[0;32m     23\u001b[0m \u001b[1;32mprint\u001b[0m \u001b[0msong_locs\u001b[0m\u001b[1;33m\u001b[0m\u001b[0m\n",
      "\u001b[1;32m<ipython-input-6-31c1a6875a46>\u001b[0m in \u001b[0;36mdata_file_urls\u001b[1;34m(data_dir)\u001b[0m\n\u001b[0;32m     10\u001b[0m     \u001b[0mdata_urls\u001b[0m \u001b[1;33m=\u001b[0m \u001b[1;33m{\u001b[0m\u001b[1;33m}\u001b[0m \u001b[1;31m# dict that will be returned\u001b[0m\u001b[1;33m\u001b[0m\u001b[0m\n\u001b[0;32m     11\u001b[0m \u001b[1;33m\u001b[0m\u001b[0m\n\u001b[1;32m---> 12\u001b[1;33m     \u001b[1;32mfor\u001b[0m \u001b[0mbird\u001b[0m \u001b[1;32min\u001b[0m \u001b[0mos\u001b[0m\u001b[1;33m.\u001b[0m\u001b[0mlistdir\u001b[0m\u001b[1;33m(\u001b[0m\u001b[0mdata_dir\u001b[0m\u001b[1;33m)\u001b[0m\u001b[1;33m:\u001b[0m \u001b[1;31m# finds bird folders\u001b[0m\u001b[1;33m\u001b[0m\u001b[0m\n\u001b[0m\u001b[0;32m     13\u001b[0m         \u001b[1;32mif\u001b[0m \u001b[0mbird\u001b[0m \u001b[1;33m!=\u001b[0m \u001b[1;34m'__MACOSX'\u001b[0m\u001b[1;33m:\u001b[0m \u001b[1;31m# ignores metadata for macs\u001b[0m\u001b[1;33m\u001b[0m\u001b[0m\n\u001b[0;32m     14\u001b[0m             \u001b[0mdata_urls\u001b[0m\u001b[1;33m[\u001b[0m\u001b[0mbird\u001b[0m\u001b[1;33m]\u001b[0m \u001b[1;33m=\u001b[0m \u001b[1;33m{\u001b[0m\u001b[1;33m}\u001b[0m\u001b[1;33m\u001b[0m\u001b[0m\n",
      "\u001b[1;31mWindowsError\u001b[0m: [Error 3] The system cannot find the path specified: 'C:\\\\Users\\\\abre049.UOA\\\\Documents\\\\data\\\\Crandall 2007/*.*'"
     ]
    }
   ],
   "source": [
    "def data_file_urls(data_dir):\n",
    "    \"\"\"\n",
    "    Takes the path name of the directory containing bird song data returning a\n",
    "    a dictionary of all songs.\n",
    "    Parameters:\n",
    "        data_dir = path name of the directory containing data\n",
    "    Return object:\n",
    "        dict where {bird: {day: set([song])}}. All values are strings\n",
    "    \"\"\"\n",
    "    data_urls = {} # dict that will be returned\n",
    "    \n",
    "    for bird in os.listdir(data_dir): # finds bird folders\n",
    "        if bird != '__MACOSX': # ignores metadata for macs\n",
    "            data_urls[bird] = {}\n",
    "    for bird in data_urls.iterkeys():\n",
    "        for day in os.listdir(os.path.join(data_dir, bird)): # finds day folders\n",
    "            if day != '.DS_Store':\n",
    "                data_urls[bird][day] = set(os.listdir(os.path.join(data_dir, bird, day))) # finds files and compiles dictionaries\n",
    "                data_urls[bird][day].discard('wavs')\n",
    "    return data_urls\n",
    "    \n",
    "song_locs = data_file_urls(data_dir)\n",
    "print song_locs"
   ]
  },
  {
   "cell_type": "code",
   "execution_count": null,
   "metadata": {
    "collapsed": false
   },
   "outputs": [],
   "source": [
    "#Classes\n",
    "print data_dir"
   ]
  },
  {
   "cell_type": "code",
   "execution_count": null,
   "metadata": {
    "collapsed": true
   },
   "outputs": [],
   "source": [
    "#def Covarient_coefficients(self, neuron, spike_time_varient, sound_varient):\n",
    "#    __init__\n",
    "#       self.coefficient_data = list in list in list (3D: x = identified neuron, \n",
    "#        y = spike time variant, z = sound varient) Note that the most embedded\n",
    "#        list will have two numbers: coefficient and number of entries\n",
    "#    __str__\n",
    "#    add_variant\n",
    "#        if new neuron:\n",
    "#            self.add_neuron()\n",
    "#        if new coefficient:\n",
    "#           add new point to data\n",
    "#       if pre-existing coefficient:\n",
    "#            take average of new and old coefficients\n",
    "#    add_neuron"
   ]
  },
  {
   "cell_type": "code",
   "execution_count": null,
   "metadata": {
    "collapsed": true
   },
   "outputs": [],
   "source": [
    "#Master function"
   ]
  },
  {
   "cell_type": "code",
   "execution_count": null,
   "metadata": {
    "collapsed": true
   },
   "outputs": [],
   "source": [
    "#def CovarientAnyliser(song_data, neuronal_data):\n",
    "#    convert data to the appropriate formats\n",
    "#    create a reference pair (spike times - audio)\n",
    "#    for each pair of data \n",
    "#        identify how it varies from reference pair\n",
    "#        Log differences in a 3D data structure Covarient_coefficients\n",
    "#        (3D: x = identified neuron, y = spike time variant, z = sound varient)\n",
    "#    return data"
   ]
  },
  {
   "cell_type": "code",
   "execution_count": null,
   "metadata": {
    "collapsed": true
   },
   "outputs": [],
   "source": [
    "#Helper functions"
   ]
  },
  {
   "cell_type": "code",
   "execution_count": null,
   "metadata": {
    "collapsed": false
   },
   "outputs": [],
   "source": [
    "#def sound_variations(sound_data):\n",
    "'''\n",
    "takes sound_data in X format and returns a ?dictionary where \n",
    "keys = str(name_of_variable) and values = float(coefficient_of_variability)\n",
    "'''\n",
    "#   need to know how sounds can varry"
   ]
  },
  {
   "cell_type": "code",
   "execution_count": null,
   "metadata": {
    "collapsed": false
   },
   "outputs": [],
   "source": [
    "#def spike_variations(spike_data):\n",
    "'''\n",
    "takes spike_data in the format X and returns a ?dictionary where\n",
    "Keys = str(name_of_variable) and values = float(coefficient_of_variability)\n",
    "'''\n",
    "#    Need to know how spike times can varry"
   ]
  },
  {
   "cell_type": "markdown",
   "metadata": {},
   "source": [
    "#What does the raw data look like?"
   ]
  },
  {
   "cell_type": "code",
   "execution_count": null,
   "metadata": {
    "collapsed": false
   },
   "outputs": [],
   "source": [
    "#Workspace\n",
    "##data_url is now out of date, needs fix\n",
    "def display_raw_data(data):\n",
    "    print 'Data class: ', type(data)\n",
    "    print 'Keys: ', data.keys()\n",
    "    print 'Header: ', data['__header__']\n",
    "    print 'Globals: ', data['__globals__']\n",
    "    print 'Versions: ', data['__version__']\n",
    "    print len(data['sng']) #74901\n",
    "\n",
    "    plt.plot(data['sng'], label='sng (audio)', linewidth=0.5)\n",
    "    plt.plot(data['ref'][0], label='ref', linewidth=0.5)\n",
    "    plt.plot(data['e1'][0], label='e1', linewidth=0.5)\n",
    "#     plt.plot(data['e2'][0], label='e2', linewidth=0.5)\n",
    "    plt.plot(data['e3'][0], label='e3', linewidth=0.5)\n",
    "    plt.legend()\n",
    "    plt.title('Raw Data plot')\n",
    "    plt.ylabel('Signal / mV')\n",
    "    plt.xlabel('Data point')\n",
    "\n",
    "display_raw_data(sp.loadmat(r87))"
   ]
  },
  {
   "cell_type": "markdown",
   "metadata": {},
   "source": [
    "#Listen to audio"
   ]
  },
  {
   "cell_type": "code",
   "execution_count": null,
   "metadata": {
    "collapsed": false
   },
   "outputs": [],
   "source": [
    "# data_url system is now out of date\n",
    "def make_audio_file(data_url):\n",
    "    blue15 = sp.loadmat(data_url)\n",
    "    audio_file = open('audio2.pcm', 'w')\n",
    "    audio_file.write(blue15['sng'])\n",
    "    audio_file.close()\n",
    "    \n",
    "# make_audio_file() ##take the file (audio) in wd and import into audacity as raw file"
   ]
  },
  {
   "cell_type": "markdown",
   "metadata": {},
   "source": [
    "#What does one population electrode look like?"
   ]
  },
  {
   "cell_type": "code",
   "execution_count": null,
   "metadata": {
    "collapsed": false
   },
   "outputs": [],
   "source": [
    "def plot_electrode(data, electrode):\n",
    "    plt.plot(data[electrode][0][3000:4000], label=electrode, linewidth=0.5)\n",
    "    plt.legend()\n",
    "    plt.title('Electrode plot')\n",
    "    plt.ylabel('Signal / mV')\n",
    "    plt.xlabel('Data point')\n",
    "    plt.show()\n",
    "    \n",
    "plot_electrode(sp.loadmat(blk161), 'e3')"
   ]
  },
  {
   "cell_type": "markdown",
   "metadata": {},
   "source": [
    "#Filters\n",
    "Band pass filter 300-6,000 Hz\n",
    "Low pass filter 50 Hz\n",
    "Finite(Fixed)-impulse response (FIR) hamming filter"
   ]
  },
  {
   "cell_type": "code",
   "execution_count": null,
   "metadata": {
    "collapsed": false
   },
   "outputs": [],
   "source": [
    "def filter_spikes(data):\n",
    "    nyq = 0.5 * sampling_freq #nyquist freq is half the sampling freq\n",
    "    taps = sgnp.firwin(31, [100, 6000], nyq=nyq,\n",
    "                         pass_zero=False, window=\"hamming\", scale=False) #need to figure out a good N value\n",
    "#     return sgnp.fftconvolve(data['e3'][0], taps)\n",
    "    filtrate = sgnp.lfilter(taps, 1.0, data['e3'][0])\n",
    "    taps = sgnp.firwin(31, 50, nyq=nyq,\n",
    "                         pass_zero=False, window=\"hamming\", scale=False)\n",
    "    return sgnp.lfilter(taps, 1.0, filtrate)\n",
    "\n",
    "plt.plot(filter_spikes(sp.loadmat(blk161))[3000:4000], lw=0.5)\n",
    "plot_electrode(sp.loadmat(blk161), 'e3')"
   ]
  },
  {
   "cell_type": "markdown",
   "metadata": {},
   "source": [
    "##Sound filter\n",
    "band-pass filter 1,000 - 8,000 Hz\n",
    "low-pass filter 50 Hz\n",
    "FIR hamming"
   ]
  },
  {
   "cell_type": "code",
   "execution_count": null,
   "metadata": {
    "collapsed": false
   },
   "outputs": [],
   "source": [
    "def filter_song(data):\n",
    "    nyq = 0.5 * sampling_freq #nyquist freq is half the sampling freq\n",
    "    taps = sgnp.firwin(31, [1000, 8000], nyq=nyq,\n",
    "                         pass_zero=False, window=\"hamming\", scale=False) #need to figure out a good N value\n",
    "#     return sgnp.fftconvolve(data['e3'][0], taps)\n",
    "    filtrate = sgnp.lfilter(taps, 1.0, data['sng'][0])\n",
    "    taps = sgnp.firwin(31, 50, nyq=nyq,\n",
    "                         pass_zero=False, window=\"hamming\", scale=False)\n",
    "    return sgnp.lfilter(taps, 1.0, filtrate)\n",
    "\n",
    "plt.plot(filter_song(sp.loadmat(blk161)), lw=0.5)\n",
    "plot_electrode(sp.loadmat(blk161), 'sng')"
   ]
  },
  {
   "cell_type": "code",
   "execution_count": null,
   "metadata": {
    "collapsed": false
   },
   "outputs": [],
   "source": [
    "#Workspace\n",
    "\n",
    "help(sgnp.firwin)"
   ]
  },
  {
   "cell_type": "code",
   "execution_count": null,
   "metadata": {
    "collapsed": false
   },
   "outputs": [],
   "source": [
    "def filter_spikes(data):\n",
    "    nyq = 0.5 * 48000 #nyquist freq is half the sampling freq\n",
    "    taps = sgnp.firwin(30, [100, 6000], nyq=nyq,\n",
    "                         pass_zero=False, window=\"hamming\", scale=False)\n",
    "#     return sgnp.fftconvolve(data['e3'][0], taps)\n",
    "    return sgnp.lfilter(taps, 1, data)\n",
    "\n",
    "sample_rate = 48000.\n",
    "nsamples = 320\n",
    " \n",
    "F_1KHz = 1000.\n",
    "A_1KHz = 1.0\n",
    " \n",
    "F_15KHz = 15000.\n",
    "A_15KHz = 0.5\n",
    " \n",
    "t = arange(nsamples) / sample_rate\n",
    "signal = A_1KHz * sin(2*pi*F_1KHz*t) + A_15KHz*sin(2*pi*F_15KHz*t)\n",
    "\n",
    "plt.plot(signal)\n",
    "plt.plot(filter_spikes(signal), lw=0.5)"
   ]
  }
 ],
 "metadata": {
  "kernelspec": {
   "display_name": "Python 2",
   "language": "python",
   "name": "python2"
  },
  "language_info": {
   "codemirror_mode": {
    "name": "ipython",
    "version": 2
   },
   "file_extension": ".py",
   "mimetype": "text/x-python",
   "name": "python",
   "nbconvert_exporter": "python",
   "pygments_lexer": "ipython2",
   "version": "2.7.9"
  }
 },
 "nbformat": 4,
 "nbformat_minor": 0
}
